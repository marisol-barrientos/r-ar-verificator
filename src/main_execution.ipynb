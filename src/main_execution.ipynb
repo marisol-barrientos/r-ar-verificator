{
 "cells": [
  {
   "cell_type": "code",
   "execution_count": null,
   "metadata": {
    "collapsed": true,
    "ExecuteTime": {
     "start_time": "2023-05-03T11:16:39.999961Z",
     "end_time": "2023-05-03T11:16:40.033989Z"
    }
   },
   "outputs": [],
   "source": [
    "\"\"\"\"\n",
    "This file is used to execute to whole process in a chronologically order\n",
    "\"\"\""
   ]
  },
  {
   "cell_type": "code",
   "execution_count": null,
   "outputs": [],
   "source": [
    "# Required Imports\n",
    "import os\n",
    "from dotenv import load_dotenv\n",
    "import json\n",
    "\n",
    "import sys\n",
    "\n",
    "sys.path.append('pre-processing/event_log')\n",
    "sys.path.append('compliance-verification')\n",
    "\n",
    "# Load environment variables from the .env file\n",
    "load_dotenv()\n",
    "HOME_PATH = os.environ['HOME_PATH']"
   ],
   "metadata": {
    "collapsed": false,
    "ExecuteTime": {
     "start_time": "2023-05-03T11:16:40.063613Z",
     "end_time": "2023-05-03T11:16:40.179132Z"
    }
   }
  },
  {
   "cell_type": "code",
   "execution_count": null,
   "outputs": [],
   "source": [
    "# Pre-Process"
   ],
   "metadata": {
    "collapsed": false,
    "ExecuteTime": {
     "start_time": "2023-05-03T11:16:40.133457Z",
     "end_time": "2023-05-03T11:16:40.179492Z"
    }
   }
  },
  {
   "cell_type": "code",
   "execution_count": null,
   "outputs": [],
   "source": [
    "# 1.1 Pre-Process a Description\n",
    "# 1.1.1 Using GPT-4\n",
    "# Import Output file from: data\n",
    "bicycle_gpt4_output_path = HOME_PATH + '/data/output/pre_processing_process_description/gpt-4-v2/bicycle_manufacturing-gpt-4-v2.json'\n",
    "\n",
    "# Load description pre-process file\n",
    "with open(bicycle_gpt4_output_path) as f:\n",
    "    bicycle_gpt4_pre_process = json.load(f)\n",
    "\n",
    "print(bicycle_gpt4_pre_process)"
   ],
   "metadata": {
    "collapsed": false,
    "ExecuteTime": {
     "start_time": "2023-05-03T11:16:40.153843Z",
     "end_time": "2023-05-03T11:16:40.193465Z"
    }
   }
  },
  {
   "cell_type": "code",
   "execution_count": null,
   "outputs": [],
   "source": [
    "# 1.1 Pre-Process a Description\n",
    "# 1.1.2 Using Customized Solution"
   ],
   "metadata": {
    "collapsed": false,
    "ExecuteTime": {
     "start_time": "2023-05-03T11:16:40.174434Z",
     "end_time": "2023-05-03T11:16:40.196591Z"
    }
   }
  },
  {
   "cell_type": "code",
   "execution_count": null,
   "outputs": [],
   "source": [
    "# 1.2 Pre-Process of an Event Log\n",
    "# 1.2.1 Using customized solution with json outputs\n",
    "dataframe_path = HOME_PATH + '/data/input/log/original/bicycle_manufacturing_log.csv'\n",
    "case_id_column_name = \"concept:instance\"\n",
    "activity_column_name = \"concept:name\"\n",
    "timestamp_key_name = \"time:timestamp\"\n",
    "used_separator = \",\"\n",
    "file_name = \"bicycle_manufacturing_original\"\n",
    "output_path = HOME_PATH + 'data/output/pre_processing_event_log/'\n",
    "\n",
    "# use method in pre_process_event_log_generator\n",
    "from src.pre_processing.event_log.pre_process_event_log_generator import create_event_log_pre_process_json\n",
    "pre_processed_bicycle_original_log = create_event_log_pre_process_json(dataframe_path,\n",
    "                                                                       case_id_column_name,\n",
    "                                                                       activity_column_name,\n",
    "                                                                       timestamp_key_name,\n",
    "                                                                       used_separator,\n",
    "                                                                       file_name,\n",
    "                                                                       output_path)\n",
    "print(pre_processed_bicycle_original_log)\n"
   ],
   "metadata": {
    "collapsed": false,
    "ExecuteTime": {
     "start_time": "2023-05-03T11:16:40.192472Z",
     "end_time": "2023-05-03T11:16:44.587045Z"
    }
   }
  },
  {
   "cell_type": "code",
   "execution_count": null,
   "outputs": [],
   "source": [
    "# 2. Compliance Verification Process\n",
    "\n",
    "\n",
    "# Required Input data:\n",
    "# Input path pre-processed log:\n",
    "path_preprocessed_event_log = HOME_PATH + '/data/output/pre_processing_event_log/bicycle_manufacturing_original.json'\n",
    "# Input path pre-processed description:\n",
    "path_preprocessed_description = HOME_PATH + '/data/output/pre_processing_process_description/gpt-4-v2/bicycle_manufacturing-gpt-4-v2.json'\n",
    "# Choose either: { \"TF-IDF\", \"BERT\", or \"SPACY\"}\n",
    "similarity_measure = \"TF-IDF\"\n",
    "# Choose a value between 0 and 1\n",
    "threshold_activity = 0.65\n",
    "# Choose a value between 0 and 1\n",
    "threshold_resource_activity = 0.65\n",
    "# Choose either: { \"['user']\", \"['role']\", \"['org_unit']\", \"['org']\", \"['user']['role']\", \"['user']['role']['org_unit']['org']\"}\n",
    "resource_types = ['org_unit']\n",
    "# Choose either True or False: Default False: Only Resource are checked in Step 2\n",
    "check_resource_and_activity = False\n",
    "# If True a pattern check is executed, Else default resource compliance check is executed\n",
    "perform_pattern_rar_check = False\n",
    "# Output file place to store\n",
    "file_name = 'bicycle_manufacturing_original'\n",
    "output_path = HOME_PATH + '/data/output/compliance_verification/bicycle_manufacturing_original/'\n",
    "\n",
    "from compliance_verification.output.compliance_output_creator import create_compliant_json_activity, create_compliant_json_ids, create_compliant_json_events\n",
    "\n",
    "# 2.1 Create activity check\n",
    "create_compliant_json_activity(path_preprocessed_event_log, path_preprocessed_description, similarity_measure,\n",
    "                               threshold_activity, file_name, output_path)\n",
    "# 2.2 Create resource activity check: id and event\n",
    "# Trace Ids\n",
    "create_compliant_json_ids(path_preprocessed_event_log, path_preprocessed_description, similarity_measure,\n",
    "                          threshold_resource_activity, resource_types, check_resource_and_activity, perform_pattern_rar_check, file_name,\n",
    "                           output_path)\n",
    "# Events\n",
    "create_compliant_json_events(path_preprocessed_event_log, path_preprocessed_description, similarity_measure,\n",
    "                             threshold_resource_activity, resource_types, check_resource_and_activity, perform_pattern_rar_check, file_name,\n",
    "                              output_path)\n"
   ],
   "metadata": {
    "collapsed": false,
    "ExecuteTime": {
     "start_time": "2023-05-01T16:21:09.677078Z",
     "end_time": "2023-05-01T16:21:09.749081Z"
    }
   }
  },
  {
   "cell_type": "code",
   "execution_count": null,
   "outputs": [],
   "source": [],
   "metadata": {
    "collapsed": false
   }
  }
 ],
 "metadata": {
  "kernelspec": {
   "display_name": "Python 3",
   "language": "python",
   "name": "python3"
  },
  "language_info": {
   "codemirror_mode": {
    "name": "ipython",
    "version": 2
   },
   "file_extension": ".py",
   "mimetype": "text/x-python",
   "name": "python",
   "nbconvert_exporter": "python",
   "pygments_lexer": "ipython2",
   "version": "2.7.6"
  }
 },
 "nbformat": 4,
 "nbformat_minor": 0
}
